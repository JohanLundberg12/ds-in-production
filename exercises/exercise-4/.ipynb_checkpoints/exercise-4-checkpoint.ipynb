{
 "cells": [
  {
   "cell_type": "code",
   "execution_count": 2,
   "id": "728bbb6d",
   "metadata": {},
   "outputs": [],
   "source": [
    "import pandas as pd\n",
    "import numpy as np\n",
    "\n",
    "from apyori import apriori\n",
    "from mlxtend.frequent_patterns import association_rules"
   ]
  },
  {
   "cell_type": "code",
   "execution_count": 3,
   "id": "17907acc",
   "metadata": {},
   "outputs": [],
   "source": [
    "carts_df = pd.read_pickle(\"../../data/tesco/tesco_carts.pickle\")\n",
    "inventory_df = pd.read_csv(\"../../data/tesco/tesco_inventory_clean.csv\")"
   ]
  },
  {
   "cell_type": "code",
   "execution_count": 3,
   "id": "b81ab3a3",
   "metadata": {},
   "outputs": [],
   "source": [
    "carts = carts_df[\"cart\"].tolist()"
   ]
  },
  {
   "cell_type": "markdown",
   "id": "5f3b868e",
   "metadata": {},
   "source": [
    "# Triplets"
   ]
  },
  {
   "cell_type": "markdown",
   "id": "285c3c97",
   "metadata": {},
   "source": [
    "    I chose min_support=0.001, meaning the set must occur at least 0.1% of the time, this was a rough guess of how often triplets occur in the data. \n",
    "    I chose min_confidence=0.5 to filter out sets that occur together by chance and to return mostly triplets. \n",
    "    I chose min_lift=5 as the marketing department is interested in strong associations. "
   ]
  },
  {
   "cell_type": "code",
   "execution_count": 5,
   "id": "73a610ea",
   "metadata": {},
   "outputs": [],
   "source": [
    "association_rules = apriori(carts, min_support=0.001, min_confidence=0.5, min_lift=5)\n",
    "association_rules = list(association_rules)"
   ]
  },
  {
   "cell_type": "code",
   "execution_count": 6,
   "id": "3b7c3152",
   "metadata": {},
   "outputs": [
    {
     "data": {
      "text/plain": [
       "[RelationRecord(items=frozenset({50501610, 50502269}), support=0.00189411050410001, ordered_statistics=[OrderedStatistic(items_base=frozenset({50501610}), items_add=frozenset({50502269}), confidence=0.5247680728163837, lift=5.917749115988009)]),\n",
       " RelationRecord(items=frozenset({50623419, 50502269}), support=0.0016116997651631506, ordered_statistics=[OrderedStatistic(items_base=frozenset({50623419}), items_add=frozenset({50502269}), confidence=0.5310158201498751, lift=5.988204243071593)]),\n",
       " RelationRecord(items=frozenset({50502436, 50502269, 50652534}), support=0.0038084383317928154, ordered_statistics=[OrderedStatistic(items_base=frozenset({50502269, 50652534}), items_add=frozenset({50502436}), confidence=0.538022134951803, lift=9.873986587325048)]),\n",
       " RelationRecord(items=frozenset({50503441, 50502436, 50652534}), support=0.002493048715536571, ordered_statistics=[OrderedStatistic(items_base=frozenset({50503441, 50652534}), items_add=frozenset({50502436}), confidence=0.5772381509654768, lift=10.593693809337442)]),\n",
       " RelationRecord(items=frozenset({50550228, 50502436, 50652534}), support=0.0013754097956723554, ordered_statistics=[OrderedStatistic(items_base=frozenset({50550228, 50652534}), items_add=frozenset({50502436}), confidence=0.5545084055017829, lift=10.176548886736942)]),\n",
       " RelationRecord(items=frozenset({50689433, 50502436, 50652534}), support=0.0023610043208211265, ordered_statistics=[OrderedStatistic(items_base=frozenset({50689433, 50652534}), items_add=frozenset({50502436}), confidence=0.625753516409913, lift=11.484066224443465)]),\n",
       " RelationRecord(items=frozenset({54550913, 50502436, 50652534}), support=0.001204826127858145, ordered_statistics=[OrderedStatistic(items_base=frozenset({54550913, 50652534}), items_add=frozenset({50502436}), confidence=0.5406861355259427, lift=9.922877337777235)]),\n",
       " RelationRecord(items=frozenset({54550994, 50502436, 50652534}), support=0.001817031957902478, ordered_statistics=[OrderedStatistic(items_base=frozenset({54550994, 50652534}), items_add=frozenset({50502436}), confidence=0.5549980702431494, lift=10.185535400068725)]),\n",
       " RelationRecord(items=frozenset({62816594, 50502436, 50652534}), support=0.0017829152243396358, ordered_statistics=[OrderedStatistic(items_base=frozenset({62816594, 50652534}), items_add=frozenset({50502436}), confidence=0.5446824937270797, lift=9.996220021493599)]),\n",
       " RelationRecord(items=frozenset({75341714, 50502436, 50652534}), support=0.0016047500601781273, ordered_statistics=[OrderedStatistic(items_base=frozenset({75341714, 50652534}), items_add=frozenset({50502436}), confidence=0.5911100767977658, lift=10.84827666143638)]),\n",
       " RelationRecord(items=frozenset({50502436, 50652534, 77454543}), support=0.0018100822529174545, ordered_statistics=[OrderedStatistic(items_base=frozenset({50652534, 77454543}), items_add=frozenset({50502436}), confidence=0.6220147633521493, lift=11.415451208169115)]),\n",
       " RelationRecord(items=frozenset({50689433, 50502436, 77454543}), support=0.0015649472043548114, ordered_statistics=[OrderedStatistic(items_base=frozenset({50689433, 77454543}), items_add=frozenset({50502436}), confidence=0.5133678756476684, lift=9.42152225570184)]),\n",
       " RelationRecord(items=frozenset({75341714, 50502436, 77454543}), support=0.0010424557477535078, ordered_statistics=[OrderedStatistic(items_base=frozenset({75341714, 77454543}), items_add=frozenset({50502436}), confidence=0.5293551491819056, lift=9.714926772337751)])]"
      ]
     },
     "execution_count": 6,
     "metadata": {},
     "output_type": "execute_result"
    }
   ],
   "source": [
    "association_rules"
   ]
  },
  {
   "cell_type": "code",
   "execution_count": 7,
   "id": "c314d70c",
   "metadata": {
    "scrolled": true
   },
   "outputs": [
    {
     "name": "stdout",
     "output_type": "stream",
     "text": [
      "['Tesco Whole Cucumber Each', 'Tesco Bananas Loose', 'Tesco Iceberg Lettuce Each']\n",
      "\n",
      "['Tesco White Potatoes 2.5Kg', 'Tesco Whole Cucumber Each', 'Tesco Iceberg Lettuce Each']\n",
      "\n",
      "['Tesco Cauliflower Each', 'Tesco Whole Cucumber Each', 'Tesco Iceberg Lettuce Each']\n",
      "\n",
      "['Tesco Mixed Peppers 3 Pack', 'Tesco Whole Cucumber Each', 'Tesco Iceberg Lettuce Each']\n",
      "\n",
      "['Tesco British Whole Milk 2.272L/4 Pints', 'Tesco Whole Cucumber Each', 'Tesco Iceberg Lettuce Each']\n",
      "\n",
      "['Tesco British Semi Skimmed Milk 2.272Ltr 4 Pints', 'Tesco Whole Cucumber Each', 'Tesco Iceberg Lettuce Each']\n",
      "\n",
      "['Tesco Broccoli 335G', 'Tesco Whole Cucumber Each', 'Tesco Iceberg Lettuce Each']\n",
      "\n",
      "['Tesco Bunched Spring Onions 100G', 'Tesco Whole Cucumber Each', 'Tesco Iceberg Lettuce Each']\n",
      "\n",
      "['Tesco Whole Cucumber Each', 'Tesco Iceberg Lettuce Each', 'Tesco Cherry Tomatoes 330G']\n",
      "\n",
      "['Tesco Mixed Peppers 3 Pack', 'Tesco Whole Cucumber Each', 'Tesco Cherry Tomatoes 330G']\n",
      "\n",
      "['Tesco Bunched Spring Onions 100G', 'Tesco Whole Cucumber Each', 'Tesco Cherry Tomatoes 330G']\n",
      "\n"
     ]
    }
   ],
   "source": [
    "association_sets = []\n",
    "for sets in association_rules:\n",
    "    cur_set = list(sets[0])\n",
    "    if len(cur_set) > 2:\n",
    "        items = [inventory_df.loc[inventory_df['product_id'] == val][\"description\"].values[0] for val in cur_set]\n",
    "        print(items)\n",
    "        print()"
   ]
  },
  {
   "cell_type": "markdown",
   "id": "6f94d8a7",
   "metadata": {},
   "source": [
    "# Pairs"
   ]
  },
  {
   "cell_type": "markdown",
   "id": "d2e4930b",
   "metadata": {},
   "source": [
    "    I choose min_support=0.01 as the marketing department is interested in sets occurring at least 1% of the time. \n",
    "    I choose min_lift=2 to filter out sets of len=1, i.e. standalone purchases. "
   ]
  },
  {
   "cell_type": "code",
   "execution_count": null,
   "id": "6ec34fc6",
   "metadata": {},
   "outputs": [],
   "source": [
    "frequent_itemsets = apriori(carts, min_support=0.01, min_lift=2)\n",
    "frequent_itemsets  = list(frequent_itemsets)"
   ]
  },
  {
   "cell_type": "code",
   "execution_count": 12,
   "id": "63fd3d50",
   "metadata": {},
   "outputs": [
    {
     "data": {
      "text/plain": [
       "[RelationRecord(items=frozenset({50502436, 50502269}), support=0.01637540031880192, ordered_statistics=[OrderedStatistic(items_base=frozenset({50502269}), items_add=frozenset({50502436}), confidence=0.18466350332720616, lift=3.3890147571430838), OrderedStatistic(items_base=frozenset({50502436}), items_add=frozenset({50502269}), confidence=0.30052756681546755, lift=3.3890147571430833)]),\n",
       " RelationRecord(items=frozenset({50502436, 50652534}), support=0.01153777385786337, ordered_statistics=[OrderedStatistic(items_base=frozenset({50502436}), items_add=frozenset({50652534}), confidence=0.21174560844106904, lift=8.542365315444068), OrderedStatistic(items_base=frozenset({50652534}), items_add=frozenset({50502436}), confidence=0.46546362848549727, lift=8.542365315444068)])]"
      ]
     },
     "execution_count": 12,
     "metadata": {},
     "output_type": "execute_result"
    }
   ],
   "source": [
    "frequent_itemsets"
   ]
  },
  {
   "cell_type": "markdown",
   "id": "ac3261e7",
   "metadata": {},
   "source": [
    "#### 1st frequent pair"
   ]
  },
  {
   "cell_type": "code",
   "execution_count": 13,
   "id": "1b9711a6",
   "metadata": {},
   "outputs": [
    {
     "data": {
      "text/html": [
       "<div>\n",
       "<style scoped>\n",
       "    .dataframe tbody tr th:only-of-type {\n",
       "        vertical-align: middle;\n",
       "    }\n",
       "\n",
       "    .dataframe tbody tr th {\n",
       "        vertical-align: top;\n",
       "    }\n",
       "\n",
       "    .dataframe thead th {\n",
       "        text-align: right;\n",
       "    }\n",
       "</style>\n",
       "<table border=\"1\" class=\"dataframe\">\n",
       "  <thead>\n",
       "    <tr style=\"text-align: right;\">\n",
       "      <th></th>\n",
       "      <th>product_id</th>\n",
       "      <th>category</th>\n",
       "      <th>description</th>\n",
       "      <th>ingredients</th>\n",
       "      <th>energy</th>\n",
       "      <th>fat</th>\n",
       "      <th>saturates</th>\n",
       "      <th>salt</th>\n",
       "      <th>sugars</th>\n",
       "      <th>protein</th>\n",
       "      <th>carbohydrate</th>\n",
       "      <th>fibre</th>\n",
       "      <th>avg_price</th>\n",
       "    </tr>\n",
       "  </thead>\n",
       "  <tbody>\n",
       "    <tr>\n",
       "      <th>186</th>\n",
       "      <td>50502436</td>\n",
       "      <td>fruit_veg</td>\n",
       "      <td>Tesco Whole Cucumber Each</td>\n",
       "      <td>no_ingredients</td>\n",
       "      <td>11.0</td>\n",
       "      <td>0.1</td>\n",
       "      <td>0.1</td>\n",
       "      <td>0.01</td>\n",
       "      <td>1.4</td>\n",
       "      <td>0.7</td>\n",
       "      <td>1.5</td>\n",
       "      <td>0.6</td>\n",
       "      <td>0.74</td>\n",
       "    </tr>\n",
       "  </tbody>\n",
       "</table>\n",
       "</div>"
      ],
      "text/plain": [
       "     product_id   category                description     ingredients  energy  \\\n",
       "186    50502436  fruit_veg  Tesco Whole Cucumber Each  no_ingredients    11.0   \n",
       "\n",
       "     fat  saturates  salt  sugars  protein  carbohydrate  fibre  avg_price  \n",
       "186  0.1        0.1  0.01     1.4      0.7           1.5    0.6       0.74  "
      ]
     },
     "execution_count": 13,
     "metadata": {},
     "output_type": "execute_result"
    }
   ],
   "source": [
    "inventory_df.loc[inventory_df['product_id'] == 50502436]"
   ]
  },
  {
   "cell_type": "code",
   "execution_count": 14,
   "id": "e0aa8402",
   "metadata": {},
   "outputs": [
    {
     "data": {
      "text/html": [
       "<div>\n",
       "<style scoped>\n",
       "    .dataframe tbody tr th:only-of-type {\n",
       "        vertical-align: middle;\n",
       "    }\n",
       "\n",
       "    .dataframe tbody tr th {\n",
       "        vertical-align: top;\n",
       "    }\n",
       "\n",
       "    .dataframe thead th {\n",
       "        text-align: right;\n",
       "    }\n",
       "</style>\n",
       "<table border=\"1\" class=\"dataframe\">\n",
       "  <thead>\n",
       "    <tr style=\"text-align: right;\">\n",
       "      <th></th>\n",
       "      <th>product_id</th>\n",
       "      <th>category</th>\n",
       "      <th>description</th>\n",
       "      <th>ingredients</th>\n",
       "      <th>energy</th>\n",
       "      <th>fat</th>\n",
       "      <th>saturates</th>\n",
       "      <th>salt</th>\n",
       "      <th>sugars</th>\n",
       "      <th>protein</th>\n",
       "      <th>carbohydrate</th>\n",
       "      <th>fibre</th>\n",
       "      <th>avg_price</th>\n",
       "    </tr>\n",
       "  </thead>\n",
       "  <tbody>\n",
       "    <tr>\n",
       "      <th>8197</th>\n",
       "      <td>50502269</td>\n",
       "      <td>fruit_veg</td>\n",
       "      <td>Tesco Bananas Loose</td>\n",
       "      <td>no_ingredients</td>\n",
       "      <td>0.0</td>\n",
       "      <td>0.0</td>\n",
       "      <td>0.0</td>\n",
       "      <td>0.0</td>\n",
       "      <td>0.0</td>\n",
       "      <td>0.0</td>\n",
       "      <td>0.0</td>\n",
       "      <td>0.0</td>\n",
       "      <td>1.155263</td>\n",
       "    </tr>\n",
       "  </tbody>\n",
       "</table>\n",
       "</div>"
      ],
      "text/plain": [
       "      product_id   category          description     ingredients  energy  fat  \\\n",
       "8197    50502269  fruit_veg  Tesco Bananas Loose  no_ingredients     0.0  0.0   \n",
       "\n",
       "      saturates  salt  sugars  protein  carbohydrate  fibre  avg_price  \n",
       "8197        0.0   0.0     0.0      0.0           0.0    0.0   1.155263  "
      ]
     },
     "execution_count": 14,
     "metadata": {},
     "output_type": "execute_result"
    }
   ],
   "source": [
    "inventory_df.loc[inventory_df['product_id'] == 50502269]"
   ]
  },
  {
   "cell_type": "markdown",
   "id": "acf21cc9",
   "metadata": {},
   "source": [
    "#### 2nd frequent pair"
   ]
  },
  {
   "cell_type": "code",
   "execution_count": 15,
   "id": "00780a87",
   "metadata": {},
   "outputs": [
    {
     "data": {
      "text/html": [
       "<div>\n",
       "<style scoped>\n",
       "    .dataframe tbody tr th:only-of-type {\n",
       "        vertical-align: middle;\n",
       "    }\n",
       "\n",
       "    .dataframe tbody tr th {\n",
       "        vertical-align: top;\n",
       "    }\n",
       "\n",
       "    .dataframe thead th {\n",
       "        text-align: right;\n",
       "    }\n",
       "</style>\n",
       "<table border=\"1\" class=\"dataframe\">\n",
       "  <thead>\n",
       "    <tr style=\"text-align: right;\">\n",
       "      <th></th>\n",
       "      <th>product_id</th>\n",
       "      <th>category</th>\n",
       "      <th>description</th>\n",
       "      <th>ingredients</th>\n",
       "      <th>energy</th>\n",
       "      <th>fat</th>\n",
       "      <th>saturates</th>\n",
       "      <th>salt</th>\n",
       "      <th>sugars</th>\n",
       "      <th>protein</th>\n",
       "      <th>carbohydrate</th>\n",
       "      <th>fibre</th>\n",
       "      <th>avg_price</th>\n",
       "    </tr>\n",
       "  </thead>\n",
       "  <tbody>\n",
       "    <tr>\n",
       "      <th>186</th>\n",
       "      <td>50502436</td>\n",
       "      <td>fruit_veg</td>\n",
       "      <td>Tesco Whole Cucumber Each</td>\n",
       "      <td>no_ingredients</td>\n",
       "      <td>11.0</td>\n",
       "      <td>0.1</td>\n",
       "      <td>0.1</td>\n",
       "      <td>0.01</td>\n",
       "      <td>1.4</td>\n",
       "      <td>0.7</td>\n",
       "      <td>1.5</td>\n",
       "      <td>0.6</td>\n",
       "      <td>0.74</td>\n",
       "    </tr>\n",
       "  </tbody>\n",
       "</table>\n",
       "</div>"
      ],
      "text/plain": [
       "     product_id   category                description     ingredients  energy  \\\n",
       "186    50502436  fruit_veg  Tesco Whole Cucumber Each  no_ingredients    11.0   \n",
       "\n",
       "     fat  saturates  salt  sugars  protein  carbohydrate  fibre  avg_price  \n",
       "186  0.1        0.1  0.01     1.4      0.7           1.5    0.6       0.74  "
      ]
     },
     "execution_count": 15,
     "metadata": {},
     "output_type": "execute_result"
    }
   ],
   "source": [
    "inventory_df.loc[inventory_df['product_id'] == 50502436]"
   ]
  },
  {
   "cell_type": "code",
   "execution_count": 16,
   "id": "3c65e73d",
   "metadata": {},
   "outputs": [
    {
     "data": {
      "text/html": [
       "<div>\n",
       "<style scoped>\n",
       "    .dataframe tbody tr th:only-of-type {\n",
       "        vertical-align: middle;\n",
       "    }\n",
       "\n",
       "    .dataframe tbody tr th {\n",
       "        vertical-align: top;\n",
       "    }\n",
       "\n",
       "    .dataframe thead th {\n",
       "        text-align: right;\n",
       "    }\n",
       "</style>\n",
       "<table border=\"1\" class=\"dataframe\">\n",
       "  <thead>\n",
       "    <tr style=\"text-align: right;\">\n",
       "      <th></th>\n",
       "      <th>product_id</th>\n",
       "      <th>category</th>\n",
       "      <th>description</th>\n",
       "      <th>ingredients</th>\n",
       "      <th>energy</th>\n",
       "      <th>fat</th>\n",
       "      <th>saturates</th>\n",
       "      <th>salt</th>\n",
       "      <th>sugars</th>\n",
       "      <th>protein</th>\n",
       "      <th>carbohydrate</th>\n",
       "      <th>fibre</th>\n",
       "      <th>avg_price</th>\n",
       "    </tr>\n",
       "  </thead>\n",
       "  <tbody>\n",
       "    <tr>\n",
       "      <th>2793</th>\n",
       "      <td>50652534</td>\n",
       "      <td>fruit_veg</td>\n",
       "      <td>Tesco Iceberg Lettuce Each</td>\n",
       "      <td>no_ingredients</td>\n",
       "      <td>0.0</td>\n",
       "      <td>0.0</td>\n",
       "      <td>0.0</td>\n",
       "      <td>0.0</td>\n",
       "      <td>0.0</td>\n",
       "      <td>0.0</td>\n",
       "      <td>0.0</td>\n",
       "      <td>0.0</td>\n",
       "      <td>0.99</td>\n",
       "    </tr>\n",
       "  </tbody>\n",
       "</table>\n",
       "</div>"
      ],
      "text/plain": [
       "      product_id   category                 description     ingredients  \\\n",
       "2793    50652534  fruit_veg  Tesco Iceberg Lettuce Each  no_ingredients   \n",
       "\n",
       "      energy  fat  saturates  salt  sugars  protein  carbohydrate  fibre  \\\n",
       "2793     0.0  0.0        0.0   0.0     0.0      0.0           0.0    0.0   \n",
       "\n",
       "      avg_price  \n",
       "2793       0.99  "
      ]
     },
     "execution_count": 16,
     "metadata": {},
     "output_type": "execute_result"
    }
   ],
   "source": [
    "inventory_df.loc[inventory_df['product_id'] == 50652534]"
   ]
  },
  {
   "cell_type": "code",
   "execution_count": null,
   "id": "45bca34d",
   "metadata": {},
   "outputs": [],
   "source": []
  },
  {
   "cell_type": "code",
   "execution_count": null,
   "id": "59df2f30",
   "metadata": {},
   "outputs": [],
   "source": []
  }
 ],
 "metadata": {
  "kernelspec": {
   "display_name": "prod",
   "language": "python",
   "name": "prod"
  },
  "language_info": {
   "codemirror_mode": {
    "name": "ipython",
    "version": 3
   },
   "file_extension": ".py",
   "mimetype": "text/x-python",
   "name": "python",
   "nbconvert_exporter": "python",
   "pygments_lexer": "ipython3",
   "version": "3.10.2"
  }
 },
 "nbformat": 4,
 "nbformat_minor": 5
}
