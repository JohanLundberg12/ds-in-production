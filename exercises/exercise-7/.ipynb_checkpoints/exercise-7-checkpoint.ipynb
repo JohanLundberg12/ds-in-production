{
 "cells": [
  {
   "cell_type": "markdown",
   "id": "17220f6c",
   "metadata": {},
   "source": [
    "# AB Testing"
   ]
  },
  {
   "cell_type": "code",
   "execution_count": 1,
   "id": "6539b1ba",
   "metadata": {},
   "outputs": [],
   "source": [
    "import math\n",
    "import numpy as np\n",
    "import pandas as pd\n",
    "import scipy.stats as st\n",
    "\n",
    "from statsmodels.stats.power import TTestIndPower\n",
    "from statsmodels.stats.weightstats import ttest_ind"
   ]
  },
  {
   "cell_type": "code",
   "execution_count": 3,
   "id": "e25c658d",
   "metadata": {},
   "outputs": [],
   "source": [
    "df = pd.read_csv(\"../../data/abtest/customer_service_ratings.csv\")\n",
    "control = df[df[\"type\"]==\"historical\"][\"rating\"].values #historical\n",
    "treatment = df[df[\"type\"]==\"treatment\"][\"rating\"].values #treatment"
   ]
  },
  {
   "cell_type": "code",
   "execution_count": 9,
   "id": "5106cf3b",
   "metadata": {},
   "outputs": [],
   "source": [
    "expected_lift = 0.1 #expected difference we want to observe"
   ]
  },
  {
   "cell_type": "markdown",
   "id": "16b6281f",
   "metadata": {},
   "source": [
    "#### Statistical significance"
   ]
  },
  {
   "cell_type": "markdown",
   "id": "28559e75",
   "metadata": {},
   "source": [
    "    We first check whether the control and treatment population are equal or not using a T-test. "
   ]
  },
  {
   "cell_type": "code",
   "execution_count": 4,
   "id": "039991fa",
   "metadata": {},
   "outputs": [],
   "source": [
    "teststatistic, p_value, d_freedom = ttest_ind(control, treatment)"
   ]
  },
  {
   "cell_type": "code",
   "execution_count": 5,
   "id": "4be37c46",
   "metadata": {},
   "outputs": [
    {
     "data": {
      "text/plain": [
       "(-1.0764719751813947, 0.2817671660562652, 5098.0)"
      ]
     },
     "execution_count": 5,
     "metadata": {},
     "output_type": "execute_result"
    }
   ],
   "source": [
    "teststatistic, p_value, d_freedom"
   ]
  },
  {
   "cell_type": "markdown",
   "id": "50434746",
   "metadata": {},
   "source": [
    "    We see that the probability of wrongly rejecting a true null hypothesis is 0.28, the null hypothesis being no difference between control and treatment. "
   ]
  },
  {
   "cell_type": "markdown",
   "id": "9e201702",
   "metadata": {},
   "source": [
    "#### Practical significance\n",
    "    We not calculate the the practical significance to check whether the difference between control and test is practical. We draw a 95% confidence interval around the mean of the treatment and check whether its lower bound is above the control average + the expected lift, which is 0.1. "
   ]
  },
  {
   "cell_type": "code",
   "execution_count": 10,
   "id": "4074fdac",
   "metadata": {},
   "outputs": [
    {
     "name": "stdout",
     "output_type": "stream",
     "text": [
      "False\n"
     ]
    }
   ],
   "source": [
    "# calculate the confidence interval around the mean\n",
    "ci = 0.95\n",
    "treatment_avg = np.mean(treatment)\n",
    "control_avg = np.mean(control)\n",
    "lower, upper = st.t.interval(alpha=ci, df=len(treatment)-1, \n",
    "                             loc=treatment_avg, scale=st.sem(treatment)) \n",
    "\n",
    "# check whether the lift is as high as expected\n",
    "print(lower > control_avg+expected_lift)"
   ]
  },
  {
   "cell_type": "markdown",
   "id": "633f1698",
   "metadata": {},
   "source": [
    "    We see that the 95% confidence interval is not greater than the control+expected_lift, meaning there is some uncertainty. Thus the improvement in the treatment is not practically significant. We need to run the A/B test longer. "
   ]
  },
  {
   "cell_type": "markdown",
   "id": "97a0418a",
   "metadata": {},
   "source": [
    "#### Run the test longer\n",
    "    We not run a power analysis of the T-test to determine how many samples we need for the control and treatment group to detect an effect of 0.1. "
   ]
  },
  {
   "cell_type": "code",
   "execution_count": 11,
   "id": "3baadc43",
   "metadata": {},
   "outputs": [],
   "source": [
    "estimated_std = np.std(control) #historical estimate"
   ]
  },
  {
   "cell_type": "code",
   "execution_count": 16,
   "id": "8ffe9872",
   "metadata": {},
   "outputs": [],
   "source": [
    "cohen_d = expected_lift / estimated_std\n",
    "effect_size = cohen_d #effect_size is the magnitude of the effect we want to see. "
   ]
  },
  {
   "cell_type": "code",
   "execution_count": 13,
   "id": "1a38c8bf",
   "metadata": {},
   "outputs": [
    {
     "name": "stdout",
     "output_type": "stream",
     "text": [
      "We must run an A/B test with at least 8272 customers, 7520 in control and 752 in treatment\n"
     ]
    }
   ],
   "source": [
    "power = 0.8 # we would like a probability of true positives of 0.8\n",
    "alpha = 0.05 # we would like a probability of false positives (p-value) of 0.05 \n",
    "ratio = 0.1 # we can afford risking to test the new recommender system on at most 10% of our users\n",
    "analysis = TTestIndPower()\n",
    "t_power_test = analysis.solve_power(effect_size=effect_size, power=power, \n",
    "                                    nobs1=None, ratio=ratio, alpha=alpha)\n",
    "sample_size_control = int(np.ceil(t_power_test))\n",
    "sample_size_treatment = int(np.ceil(t_power_test * ratio))\n",
    "sample_size_total = sample_size_control + sample_size_treatment\n",
    "print(f'We must run an A/B test with at least {sample_size_total} customers, \\\n",
    "{sample_size_control} in control and {sample_size_treatment} in treatment')"
   ]
  },
  {
   "cell_type": "code",
   "execution_count": 14,
   "id": "599ad8a8",
   "metadata": {},
   "outputs": [
    {
     "name": "stdout",
     "output_type": "stream",
     "text": [
      "The AB test should run for 83 days in total.\n"
     ]
    }
   ],
   "source": [
    "print(f\"The AB test should run for {math.ceil(sample_size_total/100)} days in total.\")"
   ]
  },
  {
   "cell_type": "markdown",
   "id": "34eeaabb",
   "metadata": {},
   "source": [
    "    From the analysis above we can conclude that we need 7520 in control and 752 in treament. Thus, the experiment should run for approximately 83 days. "
   ]
  },
  {
   "cell_type": "code",
   "execution_count": null,
   "id": "5595b728",
   "metadata": {},
   "outputs": [],
   "source": []
  }
 ],
 "metadata": {
  "kernelspec": {
   "display_name": "prod",
   "language": "python",
   "name": "prod"
  },
  "language_info": {
   "codemirror_mode": {
    "name": "ipython",
    "version": 3
   },
   "file_extension": ".py",
   "mimetype": "text/x-python",
   "name": "python",
   "nbconvert_exporter": "python",
   "pygments_lexer": "ipython3",
   "version": "3.10.2"
  }
 },
 "nbformat": 4,
 "nbformat_minor": 5
}
